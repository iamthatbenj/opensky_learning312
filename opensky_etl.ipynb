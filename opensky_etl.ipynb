{
 "cells": [
  {
   "cell_type": "code",
   "execution_count": 3,
   "metadata": {},
   "outputs": [],
   "source": [
    "import pandas as pd\n",
    "import json\n",
    "from opensky_api import OpenSkyApi"
   ]
  },
  {
   "cell_type": "code",
   "execution_count": 62,
   "metadata": {},
   "outputs": [],
   "source": [
    "api = OpenSkyApi()\n",
    "states = api.get_states()\n",
    "columns = ['icao24','callsign','origin_country','time_position','last_contact','latitude','longitude','geo_altitude','on_ground','velocity','true_track','vertical_rate','sensors','baro_altitude','squawk','spi','position_source']\n",
    "statesframe = pd.DataFrame(columns=columns)"
   ]
  },
  {
   "cell_type": "code",
   "execution_count": 70,
   "metadata": {},
   "outputs": [],
   "source": [
    "for i in states.states:\n",
    "    temp = pd.DataFrame(\n",
    "        {\n",
    "            'icao24': i.icao24,\n",
    "            'callsign': i.callsign,\n",
    "            'origin_country': i.origin_country,\n",
    "            'time_position': i.time_position,\n",
    "            'last_contact': i.last_contact,\n",
    "            'latitude': i.latitude,\n",
    "            'longitude': i.longitude,\n",
    "            'geo_altitude': i.geo_altitude,\n",
    "            'on_ground': i.on_ground,\n",
    "            'velocity': i.velocity,\n",
    "            'true_track': i.true_track,\n",
    "            'vertical_rate': i.vertical_rate,\n",
    "            'sensors': i.sensors,\n",
    "            'baro_altitude': i.baro_altitude,\n",
    "            'squawk': i.squawk,\n",
    "            'spi': i.spi,\n",
    "            'position_source': i.position_source\n",
    "        }, index=[0])\n",
    "    statesframe = pd.concat([statesframe, temp])"
   ]
  },
  {
   "cell_type": "code",
   "execution_count": 76,
   "metadata": {},
   "outputs": [
    {
     "data": {
      "text/plain": [
       "-27.64"
      ]
     },
     "execution_count": 76,
     "metadata": {},
     "output_type": "execute_result"
    }
   ],
   "source": [
    "statesframe['vertical_rate'].min()"
   ]
  },
  {
   "cell_type": "code",
   "execution_count": null,
   "metadata": {},
   "outputs": [],
   "source": []
  },
  {
   "cell_type": "code",
   "execution_count": null,
   "metadata": {},
   "outputs": [],
   "source": []
  }
 ],
 "metadata": {
  "kernelspec": {
   "display_name": "Python 3",
   "language": "python",
   "name": "python3"
  },
  "language_info": {
   "codemirror_mode": {
    "name": "ipython",
    "version": 3
   },
   "file_extension": ".py",
   "mimetype": "text/x-python",
   "name": "python",
   "nbconvert_exporter": "python",
   "pygments_lexer": "ipython3",
   "version": "3.7.6"
  }
 },
 "nbformat": 4,
 "nbformat_minor": 4
}
